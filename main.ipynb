{
 "cells": [
  {
   "cell_type": "code",
   "execution_count": 1,
   "id": "ff1ec261",
   "metadata": {},
   "outputs": [],
   "source": [
    "# # install necesary packages\n",
    "# %pip install import-ipynb\n",
    "\n",
    "# %pip install pandas pint numpy sklearn seaborn matplotlib\n",
    "# %pip install langchain langchain-community langchain-openai\n",
    "# %pip install python-dotenv"
   ]
  },
  {
   "cell_type": "code",
   "execution_count": 2,
   "id": "3fd337c0",
   "metadata": {},
   "outputs": [],
   "source": [
    "# Lang chain imports\n",
    "from langchain.chat_models import ChatOpenAI  \n",
    "from langchain.schema import HumanMessage, SystemMessage\n",
    "from dotenv import load_dotenv\n",
    "\n",
    "# Get API KEY\n",
    "import os\n",
    "\n",
    "load_dotenv()\n",
    "OPENAI_API_KEY = os.environ.get(\"OPENAI_API_KEY\")\n",
    "if not OPENAI_API_KEY:\n",
    "    print(\"OpenAI API Key not found\")\n",
    "\n",
    "# Import libraries\n",
    "import pandas as pd\n",
    "import numpy as np"
   ]
  },
  {
   "cell_type": "code",
   "execution_count": 3,
   "id": "5d628dfe",
   "metadata": {},
   "outputs": [],
   "source": [
    "# Import features (TODO: Add features as we develop)\n",
    "import import_ipynb\n",
    "from features.summaries import get_summaries"
   ]
  },
  {
   "cell_type": "code",
   "execution_count": null,
   "id": "a8051915",
   "metadata": {},
   "outputs": [],
   "source": [
    "def main(user_query, df):\n",
    "    \n",
    "    # List features for agent \n",
    "    features = \"\"\"\n",
    "    Available features:\n",
    "    - pattern_matching(): handle object columns, preprocessing, cleaning\n",
    "    - get_summaries(): data summaries, visualise data \n",
    "    - missing_vals(): handling missing data, imputation recommendations\n",
    "    \"\"\"\n",
    "    # - handle_missing_vals(): imputation, missing values \n",
    "    # - detect_outliers(): outliers\n",
    "\n",
    "    # Create message chain\n",
    "    messages = []\n",
    "    messages.append(SystemMessage(content=f\"\"\"\n",
    "    You are a data cleaning agent\n",
    "                                  \n",
    "    Dataset info: Shape: {df.shape}, Sample: {df.head(3).to_string()}\n",
    "\n",
    "    {features}\n",
    "\n",
    "    Rules:\n",
    "    - Each function takes (df, user_query) and returns modified df\n",
    "    - Generate Python code that calls the functions with SPECIFIC instructions\n",
    "    - Each function call should have a targeted query explaining exactly what to do\n",
    "    - Return only executable Python code, no explanations, no markdown blocks\n",
    "    - Only if no actions can be taken, print a descriptive message why\n",
    "\n",
    "    Examples:\n",
    "    - User: Find outliers for price and stock, Generated: Single: df = detect_outliers(df, \"find outliers in price, stock\")\n",
    "    - User: Impute numeric columns and generate mean and std for age, Generated: df = handle_missing_vals(df, \"impute numeric columns\"); df = get_summary(df, \"calculate mean and std for age\")\n",
    "    \"\"\"))\n",
    "    messages.append(HumanMessage(content=f\"User request: {user_query}\"))\n",
    "\n",
    "    # Call LLM\n",
    "    llm = ChatOpenAI(temperature=0, model_name=\"gpt-4o-mini\")\n",
    "    response = llm.invoke(messages)\n",
    "    generated_code = response.content.strip()\n",
    "    print(generated_code)\n",
    "\n",
    "    # Execute AI generated code\n",
    "    try:\n",
    "        original_df = df.copy()\n",
    "        exec(generated_code)\n",
    "        return df\n",
    "    except Exception as e:\n",
    "        print(f\"Error: {e}\")\n",
    "        print(f\"Generated Code:{generated_code}\")\n",
    "        return original_df\n"
   ]
  },
  {
   "cell_type": "code",
   "execution_count": null,
   "id": "0389ce11",
   "metadata": {},
   "outputs": [],
   "source": [
    "# Sample data\n",
    "df = pd.read_csv('sample_data/smoke.csv')\n",
    "user_query=\"clean my dataset\""
   ]
  },
  {
   "cell_type": "code",
   "execution_count": 7,
   "id": "b59ec888",
   "metadata": {},
   "outputs": [
    {
     "ename": "AttributeError",
     "evalue": "'str' object has no attribute 'shape'",
     "output_type": "error",
     "traceback": [
      "\u001b[31m---------------------------------------------------------------------------\u001b[39m",
      "\u001b[31mAttributeError\u001b[39m                            Traceback (most recent call last)",
      "\u001b[36mCell\u001b[39m\u001b[36m \u001b[39m\u001b[32mIn[7]\u001b[39m\u001b[32m, line 1\u001b[39m\n\u001b[32m----> \u001b[39m\u001b[32m1\u001b[39m \u001b[43mmain\u001b[49m\u001b[43m(\u001b[49m\u001b[43muser_query\u001b[49m\u001b[43m,\u001b[49m\u001b[43m \u001b[49m\u001b[43mdf\u001b[49m\u001b[43m)\u001b[49m\n",
      "\u001b[36mCell\u001b[39m\u001b[36m \u001b[39m\u001b[32mIn[4]\u001b[39m\u001b[32m, line 16\u001b[39m, in \u001b[36mmain\u001b[39m\u001b[34m(user_query, df)\u001b[39m\n\u001b[32m      8\u001b[39m \u001b[38;5;66;03m# - handle_missing_vals(): imputation, missing values \u001b[39;00m\n\u001b[32m      9\u001b[39m \u001b[38;5;66;03m# - detect_outliers(): outliers\u001b[39;00m\n\u001b[32m     10\u001b[39m \n\u001b[32m     11\u001b[39m \u001b[38;5;66;03m# Create message chain\u001b[39;00m\n\u001b[32m     12\u001b[39m messages = []\n\u001b[32m     13\u001b[39m messages.append(SystemMessage(content=\u001b[33mf\u001b[39m\u001b[33m\"\"\"\u001b[39m\n\u001b[32m     14\u001b[39m \u001b[33mYou are a data cleaning agent\u001b[39m\n\u001b[32m     15\u001b[39m \n\u001b[32m---> \u001b[39m\u001b[32m16\u001b[39m \u001b[33mDataset info: Shape: \u001b[39m\u001b[38;5;132;01m{\u001b[39;00m\u001b[43mdf\u001b[49m\u001b[43m.\u001b[49m\u001b[43mshape\u001b[49m\u001b[38;5;132;01m}\u001b[39;00m\u001b[33m, Sample: \u001b[39m\u001b[38;5;132;01m{\u001b[39;00mdf.head(\u001b[32m3\u001b[39m).to_string()\u001b[38;5;132;01m}\u001b[39;00m\n\u001b[32m     17\u001b[39m \n\u001b[32m     18\u001b[39m \u001b[33m\u001b[39m\u001b[38;5;132;01m{\u001b[39;00mfeatures\u001b[38;5;132;01m}\u001b[39;00m\n\u001b[32m     19\u001b[39m \n\u001b[32m     20\u001b[39m \u001b[33mRules:\u001b[39m\n\u001b[32m     21\u001b[39m \u001b[33m- Each function takes (user_query, df) and returns modified df\u001b[39m\n\u001b[32m     22\u001b[39m \u001b[33m- Generate Python code that calls the functions with SPECIFIC instructions\u001b[39m\n\u001b[32m     23\u001b[39m \u001b[33m- Each function call should have a targeted query explaining exactly what to do\u001b[39m\n\u001b[32m     24\u001b[39m \u001b[33m- Return only executable Python code, no explanations, no markdown blocks\u001b[39m\n\u001b[32m     25\u001b[39m \u001b[33m- Only if no actions can be taken, print a descriptive message why\u001b[39m\n\u001b[32m     26\u001b[39m \n\u001b[32m     27\u001b[39m \u001b[33mExamples:\u001b[39m\n\u001b[32m     28\u001b[39m \u001b[33m- User: Find outliers for price and stock, Generated: Single: df = detect_outliers(\u001b[39m\u001b[33m\"\u001b[39m\u001b[33mfind outliers in price, stock\u001b[39m\u001b[33m\"\u001b[39m\u001b[33m, df)\u001b[39m\n\u001b[32m     29\u001b[39m \u001b[33m- User: Impute numeric columns and generate mean and std for age, Generated: df = handle_missing_vals(\u001b[39m\u001b[33m\"\u001b[39m\u001b[33mimpute numeric columns\u001b[39m\u001b[33m\"\u001b[39m\u001b[33m, df); df = get_summary(\u001b[39m\u001b[33m\"\u001b[39m\u001b[33mcalculate mean and std for age\u001b[39m\u001b[33m\"\u001b[39m\u001b[33m, df)\u001b[39m\n\u001b[32m     30\u001b[39m \u001b[33m\u001b[39m\u001b[33m\"\"\"\u001b[39m))\n\u001b[32m     31\u001b[39m messages.append(HumanMessage(content=\u001b[33mf\u001b[39m\u001b[33m\"\u001b[39m\u001b[33mUser request: \u001b[39m\u001b[38;5;132;01m{\u001b[39;00muser_query\u001b[38;5;132;01m}\u001b[39;00m\u001b[33m\"\u001b[39m))\n\u001b[32m     33\u001b[39m \u001b[38;5;66;03m# Call LLM\u001b[39;00m\n",
      "\u001b[31mAttributeError\u001b[39m: 'str' object has no attribute 'shape'"
     ]
    }
   ],
   "source": [
    "main(user_query, df)"
   ]
  }
 ],
 "metadata": {
  "kernelspec": {
   "display_name": "data-cleaning-agent",
   "language": "python",
   "name": "python3"
  },
  "language_info": {
   "codemirror_mode": {
    "name": "ipython",
    "version": 3
   },
   "file_extension": ".py",
   "mimetype": "text/x-python",
   "name": "python",
   "nbconvert_exporter": "python",
   "pygments_lexer": "ipython3",
   "version": "3.11.13"
  }
 },
 "nbformat": 4,
 "nbformat_minor": 5
}
