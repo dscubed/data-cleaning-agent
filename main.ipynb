{
 "cells": [
  {
   "cell_type": "code",
   "execution_count": null,
   "id": "ff1ec261",
   "metadata": {},
   "outputs": [],
   "source": [
    "# install necesary packages\n",
    "%pip install import-ipynb\n",
    "\n",
    "%pip install pandas\n",
    "%pip install pint \n",
    "%pip install numpy\n",
    "%pip install sklearn\n",
    "%pip install langchain langchain-community openai"
   ]
  },
  {
   "cell_type": "code",
   "execution_count": 2,
   "id": "3fd337c0",
   "metadata": {},
   "outputs": [],
   "source": [
    "# Lang chain imports\n",
    "from langchain.chat_models import ChatOpenAI  \n",
    "from langchain.schema import HumanMessage, SystemMessage\n",
    "\n",
    "# Get API KEY\n",
    "import os\n",
    "OPENAI_API_KEY = os.environ.get(\"OPENAI_API_KEY\")\n",
    "if not OPENAI_API_KEY:\n",
    "    print(\"OpenAI API Key not found\")\n",
    "\n",
    "# Import libraries\n",
    "import pandas as pd\n",
    "import numpy as np"
   ]
  },
  {
   "cell_type": "code",
   "execution_count": null,
   "id": "5d628dfe",
   "metadata": {},
   "outputs": [],
   "source": [
    "# Import features (TODO: Add features as we develop)\n",
    "import import_ipynb\n",
    "# from features.summaries import get_summaries\n",
    "# from features.outliers import detect_outliers"
   ]
  },
  {
   "cell_type": "code",
   "execution_count": 44,
   "id": "a8051915",
   "metadata": {},
   "outputs": [],
   "source": [
    "def main(user_query, df):\n",
    "    \n",
    "    # List features for agent \n",
    "    features = \"\"\"\n",
    "    Available features:\n",
    "    - get_summaries(): summaries \n",
    "    - handle_missing_vals(): imputation, missing values \n",
    "    - detect_outliers(): outliers\n",
    "    \"\"\"\n",
    "\n",
    "    # Create message chain\n",
    "    messages = []\n",
    "    messages.append(SystemMessage(content=f\"\"\"\n",
    "    You are a data cleaning agent\n",
    "                                  \n",
    "    Dataset info: Shape: {df.shape}, Sample: {df.head(3).to_string()}\n",
    "\n",
    "    {features}\n",
    "\n",
    "    Rules:\n",
    "    - Each function takes (user_query, df) and returns modified df\n",
    "    - Generate Python code that calls the functions with SPECIFIC instructions\n",
    "    - Each function call should have a targeted query explaining exactly what to do\n",
    "    - Return only executable Python code, no explanations, no markdown blocks\n",
    "    - Only if no actions can be taken, print a descriptive message why\n",
    "\n",
    "    Examples:\n",
    "    - User: Find outliers for price and stock, Generated: Single: df = detect_outliers(\"find outliers in price, stock\", df)\n",
    "    - User: Impute numeric columns and generate mean and std for age, Generated: df = handle_missing_vals(\"impute numeric columns\", df); df = get_summary(\"calculate mean and std for age\", df)\n",
    "    \"\"\"))\n",
    "    messages.append(HumanMessage(content=f\"User request: {user_query}\"))\n",
    "\n",
    "    # Call LLM\n",
    "    llm = ChatOpenAI(temperature=0, model_name=\"gpt-4o-mini\")\n",
    "    response = llm.invoke(messages)\n",
    "    generated_code = response.content.strip()\n",
    "    print(generated_code)\n",
    "\n",
    "    # Execute AI generated code\n",
    "    try:\n",
    "        original_df = df.copy()\n",
    "        exec(generated_code)\n",
    "        return df\n",
    "    except Exception as e:\n",
    "        print(f\"Error: {e}\")\n",
    "        print(f\"Generated Code:{generated_code}\")\n",
    "        return original_df\n"
   ]
  },
  {
   "cell_type": "code",
   "execution_count": 49,
   "id": "0389ce11",
   "metadata": {},
   "outputs": [],
   "source": [
    "# Sample data\n",
    "df = pd.read_csv('sample_data/smoke.csv')\n",
    "user_query=\"Impute missing values and then find any outliers in the dataset\""
   ]
  },
  {
   "cell_type": "code",
   "execution_count": null,
   "id": "b59ec888",
   "metadata": {},
   "outputs": [],
   "source": [
    "main(user_query, df)"
   ]
  }
 ],
 "metadata": {
  "kernelspec": {
   "display_name": "data-cleaning-agent",
   "language": "python",
   "name": "python3"
  },
  "language_info": {
   "codemirror_mode": {
    "name": "ipython",
    "version": 3
   },
   "file_extension": ".py",
   "mimetype": "text/x-python",
   "name": "python",
   "nbconvert_exporter": "python",
   "pygments_lexer": "ipython3",
   "version": "3.11.13"
  }
 },
 "nbformat": 4,
 "nbformat_minor": 5
}
