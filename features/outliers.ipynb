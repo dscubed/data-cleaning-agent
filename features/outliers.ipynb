{
 "cells": [
  {
   "cell_type": "markdown",
   "id": "691226d2",
   "metadata": {},
   "source": [
    "## **Feature:** [FEATURE_NAME]\n",
    "\n",
    "**Names:** [YOUR_NAME]\n",
    "\n",
    "### **What it does**\n",
    "[Brief description]\n",
    "\n",
    "### **Helper Functions**\n",
    "[List Helper Functions]"
   ]
  },
  {
   "cell_type": "code",
   "execution_count": 9,
   "id": "cba1cc88",
   "metadata": {},
   "outputs": [],
   "source": [
    "import numpy as np\n",
    "import pandas as pd\n"
   ]
  },
  {
   "cell_type": "code",
   "execution_count": 10,
   "id": "4c1db021",
   "metadata": {},
   "outputs": [],
   "source": [
    "def zscore_outliers_mask(s: pd.Series, z_thresh: float = 3.0) -> pd.Series:\n",
    "    \"\"\"True where |z| > z_thresh; safe for zero/NaN std.\"\"\"\n",
    "    if not pd.api.types.is_numeric_dtype(s):\n",
    "        return pd.Series(False, index=s.index)\n",
    "    x = s.astype(float)\n",
    "    mu = x.mean(skipna=True)\n",
    "    sd = x.std(skipna=True)\n",
    "    if not np.isfinite(sd) or sd == 0:\n",
    "        return pd.Series(False, index=s.index)\n",
    "    z = (x - mu) / sd\n",
    "    return z.abs() > z_thresh\n",
    "\n",
    "def iqr_bounds(s: pd.Series, k: float = 1.5):\n",
    "    x = s.astype(float)\n",
    "    q1 = x.quantile(0.25)\n",
    "    q3 = x.quantile(0.75)\n",
    "    iqr = q3 - q1\n",
    "    return q1 - k * iqr, q3 + k * iqr\n",
    "\n",
    "def iqr_outliers_mask(s: pd.Series, k: float = 1.5) -> pd.Series:\n",
    "    if not pd.api.types.is_numeric_dtype(s):\n",
    "        return pd.Series(False, index=s.index)\n",
    "    low, high = iqr_bounds(s, k)\n",
    "    x = s.astype(float)\n",
    "    return (x < low) | (x > high)\n"
   ]
  },
  {
   "cell_type": "code",
   "execution_count": 11,
   "id": "d329ceec",
   "metadata": {},
   "outputs": [],
   "source": [
    "def zscore_report(df: pd.DataFrame, z_thresh=3.0):\n",
    "    numeric_cols = [c for c in df.columns if pd.api.types.is_numeric_dtype(df[c])]\n",
    "    rows = len(df)\n",
    "    records = []\n",
    "    for c in numeric_cols:\n",
    "        m = zscore_outliers_mask(df[c], z_thresh)\n",
    "        records.append({\n",
    "            \"column\": c,\n",
    "            \"z_thresh\": z_thresh,\n",
    "            \"outliers\": int(m.sum()),\n",
    "            \"rows\": rows,\n",
    "            \"pct_outliers\": round(100*m.mean(), 3)\n",
    "        })\n",
    "    return pd.DataFrame(records)\n",
    "\n",
    "def iqr_report(df: pd.DataFrame, iqr_k=1.5):\n",
    "    numeric_cols = [c for c in df.columns if pd.api.types.is_numeric_dtype(df[c])]\n",
    "    rows = len(df)\n",
    "    records = []\n",
    "    for c in numeric_cols:\n",
    "        m = iqr_outliers_mask(df[c], iqr_k)\n",
    "        low, high = iqr_bounds(df[c], iqr_k)\n",
    "        records.append({\n",
    "            \"column\": c,\n",
    "            \"iqr_k\": iqr_k,\n",
    "            \"lower_bound\": low,\n",
    "            \"upper_bound\": high,\n",
    "            \"outliers\": int(m.sum()),\n",
    "            \"rows\": rows,\n",
    "            \"pct_outliers\": round(100*m.mean(), 3)\n",
    "        })\n",
    "    return pd.DataFrame(records)\n"
   ]
  },
  {
   "cell_type": "code",
   "execution_count": 12,
   "id": "65ed39d8",
   "metadata": {},
   "outputs": [
    {
     "name": "stdout",
     "output_type": "stream",
     "text": [
      "=== Z-score Outliers ===\n",
      "            column  z_thresh  outliers  rows  pct_outliers\n",
      "0             Year       3.0         1   876         0.114\n",
      "1   Smoke everyday       3.0         4   876         0.457\n",
      "2  Smoke some days       3.0         5   876         0.571\n",
      "3    Former smoker       3.0         5   876         0.571\n",
      "4     Never smoked       3.0        21   876         2.397\n",
      "\n",
      "=== IQR Outliers ===\n",
      "            column  iqr_k  lower_bound  upper_bound  outliers  rows  \\\n",
      "0             Year    1.5  1987.000000  2019.000000         1   876   \n",
      "1   Smoke everyday    1.5     0.061000     0.269000        11   876   \n",
      "2  Smoke some days    1.5     0.022125     0.075125        28   876   \n",
      "3    Former smoker    1.5     0.179500     0.311500        63   876   \n",
      "4     Never smoked    1.5     0.433875     0.638875        47   876   \n",
      "\n",
      "   pct_outliers  \n",
      "0         0.114  \n",
      "1         1.256  \n",
      "2         3.196  \n",
      "3         7.192  \n",
      "4         5.365  \n"
     ]
    }
   ],
   "source": [
    "df = pd.read_csv(\"cleaned_smoke.csv\")\n",
    "\n",
    "print(\"=== Z-score Outliers ===\")\n",
    "print(zscore_report(df, z_thresh=3.0))\n",
    "\n",
    "print(\"\\n=== IQR Outliers ===\")\n",
    "print(iqr_report(df, iqr_k=1.5))\n"
   ]
  },
  {
   "cell_type": "code",
   "execution_count": 13,
   "id": "0b89cddc",
   "metadata": {},
   "outputs": [],
   "source": [
    "def zscore_outliers_rows(df: pd.DataFrame, z_thresh=3.0) -> pd.DataFrame:\n",
    "    \"\"\"\n",
    "    Return all rows where ANY numeric column is an outlier by Z-score.\n",
    "    \"\"\"\n",
    "    numeric_cols = [c for c in df.columns if pd.api.types.is_numeric_dtype(df[c])]\n",
    "    if not numeric_cols:\n",
    "        return pd.DataFrame()  # no numeric columns\n",
    "    \n",
    "    mask_union = pd.Series(False, index=df.index)\n",
    "    for c in numeric_cols:\n",
    "        mask_union |= zscore_outliers_mask(df[c], z_thresh)\n",
    "    \n",
    "    return df.loc[mask_union]\n",
    "\n",
    "def iqr_outliers_rows(df: pd.DataFrame, iqr_k=1.5) -> pd.DataFrame:\n",
    "    \"\"\"\n",
    "    Return all rows where ANY numeric column is an outlier by IQR.\n",
    "    \"\"\"\n",
    "    numeric_cols = [c for c in df.columns if pd.api.types.is_numeric_dtype(df[c])]\n",
    "    if not numeric_cols:\n",
    "        return pd.DataFrame()\n",
    "    \n",
    "    mask_union = pd.Series(False, index=df.index)\n",
    "    for c in numeric_cols:\n",
    "        mask_union |= iqr_outliers_mask(df[c], iqr_k)\n",
    "    \n",
    "    return df.loc[mask_union]\n"
   ]
  },
  {
   "cell_type": "code",
   "execution_count": 21,
   "id": "5f8e539c",
   "metadata": {},
   "outputs": [
    {
     "name": "stdout",
     "output_type": "stream",
     "text": [
      "=== Z-score Report ===\n",
      "            column  z_thresh  outliers  rows  pct_outliers\n",
      "0             Year       3.0         1   876         0.114\n",
      "1   Smoke everyday       3.0         4   876         0.457\n",
      "2  Smoke some days       3.0         5   876         0.571\n",
      "3    Former smoker       3.0         5   876         0.571\n",
      "4     Never smoked       3.0        21   876         2.397\n",
      "\n",
      "=== Outlier Rows by Z-score ===\n",
      "30\n",
      "     Year           State  Smoke everyday  Smoke some days  Former smoker  \\\n",
      "3    2100        Arkansas           0.173            0.056          0.241   \n",
      "6    2010     Connecticut           0.092            0.040          1.050   \n",
      "48   2010            Utah           0.064            0.027          0.143   \n",
      "51   2010  Virgin Islands           0.036            0.022          0.105   \n",
      "67   2009            Guam           0.189            0.052          0.111   \n",
      "98   2009     Puerto Rico           0.069            0.037          0.180   \n",
      "104  2009            Utah           0.069            0.029          0.151   \n",
      "107  2009  Virgin Islands           0.039            0.026          0.111   \n",
      "160  2008            Utah           0.068            0.025          0.161   \n",
      "163  2008  Virgin Islands           0.041            0.023          0.115   \n",
      "\n",
      "     Never smoked  \n",
      "3           0.530  \n",
      "6           0.576  \n",
      "48          0.766  \n",
      "51          0.837  \n",
      "67          0.648  \n",
      "98          0.715  \n",
      "104         0.751  \n",
      "107         0.825  \n",
      "160         0.745  \n",
      "163         0.821  \n",
      "\n",
      "=== IQR Report ===\n",
      "            column  iqr_k  lower_bound  upper_bound  outliers  rows  \\\n",
      "0             Year    1.5  1987.000000  2019.000000         1   876   \n",
      "1   Smoke everyday    1.5     0.061000     0.269000        11   876   \n",
      "2  Smoke some days    1.5     0.022125     0.075125        28   876   \n",
      "3    Former smoker    1.5     0.179500     0.311500        63   876   \n",
      "4     Never smoked    1.5     0.433875     0.638875        47   876   \n",
      "\n",
      "   pct_outliers  \n",
      "0         0.114  \n",
      "1         1.256  \n",
      "2         3.196  \n",
      "3         7.192  \n",
      "4         5.365  \n",
      "\n",
      "=== Outlier Rows by IQR ===\n",
      "97\n",
      "    Year           State  Smoke everyday  Smoke some days  Former smoker  \\\n",
      "3   2100        Arkansas           0.173            0.056          0.241   \n",
      "4   2010      California           0.075            0.046          0.231   \n",
      "6   2010     Connecticut           0.092            0.040          1.050   \n",
      "11  2010            Guam           0.197            0.061          0.166   \n",
      "42  2010     Puerto Rico           0.075            0.044          0.173   \n",
      "48  2010            Utah           0.064            0.027          0.143   \n",
      "51  2010  Virgin Islands           0.036            0.022          0.105   \n",
      "60  2009      California           0.081            0.047          0.232   \n",
      "67  2009            Guam           0.189            0.052          0.111   \n",
      "98  2009     Puerto Rico           0.069            0.037          0.180   \n",
      "\n",
      "    Never smoked  \n",
      "3          0.530  \n",
      "4          0.648  \n",
      "6          0.576  \n",
      "11         0.576  \n",
      "42         0.708  \n",
      "48         0.766  \n",
      "51         0.837  \n",
      "60         0.639  \n",
      "67         0.648  \n",
      "98         0.715  \n"
     ]
    }
   ],
   "source": [
    "df = pd.read_csv(\"cleaned_smoke.csv\")\n",
    "\n",
    "print(\"=== Z-score Report ===\")\n",
    "print(zscore_report(df, z_thresh=3.0))\n",
    "\n",
    "print(\"\\n=== Outlier Rows by Z-score ===\")\n",
    "\n",
    "print(len(zscore_outliers_rows(df, z_thresh=3.0)))\n",
    "print(zscore_outliers_rows(df, z_thresh=3.0).head(10))  \n",
    "\n",
    "\n",
    "print(\"\\n=== IQR Report ===\")\n",
    "print(iqr_report(df, iqr_k=1.5))\n",
    "\n",
    "print(\"\\n=== Outlier Rows by IQR ===\")\n",
    "print(len(iqr_outliers_rows(df, iqr_k=1.5)))\n",
    "print(iqr_outliers_rows(df, iqr_k=1.5).head(10))  # show first 10\n"
   ]
  },
  {
   "cell_type": "code",
   "execution_count": 15,
   "id": "099e91fd",
   "metadata": {},
   "outputs": [],
   "source": [
    "def outlier_percent_tables(\n",
    "    df: pd.DataFrame,\n",
    "    z_thresh: float = 3.0,\n",
    "    iqr_k: float = 1.5,\n",
    "):\n",
    "    num_cols = [c for c in df.columns if pd.api.types.is_numeric_dtype(df[c])]\n",
    "    rows = len(df)\n",
    "\n",
    "    # Z-score table\n",
    "    z_records = []\n",
    "    for c in num_cols:\n",
    "        m = zscore_outliers_mask(df[c], z_thresh)\n",
    "        z_records.append({\n",
    "            \"column\": c,\n",
    "            \"z_thresh\": z_thresh,\n",
    "            \"outliers\": int(m.sum()),\n",
    "            \"rows\": rows,\n",
    "            \"pct_outliers\": round(100 * m.mean(), 3),\n",
    "        })\n",
    "    z_table = pd.DataFrame(z_records).sort_values(\"pct_outliers\", ascending=False)\n",
    "\n",
    "    # IQR table\n",
    "    iqr_records = []\n",
    "    for c in num_cols:\n",
    "        m = iqr_outliers_mask(df[c], iqr_k)\n",
    "        low, high = iqr_bounds(df[c], iqr_k)\n",
    "        iqr_records.append({\n",
    "            \"column\": c,\n",
    "            \"iqr_k\": iqr_k,\n",
    "            \"lower_bound\": float(low),\n",
    "            \"upper_bound\": float(high),\n",
    "            \"outliers\": int(m.sum()),\n",
    "            \"rows\": rows,\n",
    "            \"pct_outliers\": round(100 * m.mean(), 3),\n",
    "        })\n",
    "    iqr_table = pd.DataFrame(iqr_records).sort_values(\"pct_outliers\", ascending=False)\n",
    "\n",
    "    return z_table.reset_index(drop=True), iqr_table.reset_index(drop=True)\n"
   ]
  },
  {
   "cell_type": "code",
   "execution_count": 16,
   "id": "5350aed2",
   "metadata": {},
   "outputs": [],
   "source": [
    "def outlier_union_table(\n",
    "    df: pd.DataFrame,\n",
    "    z_thresh: float = 3.0,\n",
    "    iqr_k: float = 1.5,\n",
    "):\n",
    "    num_cols = [c for c in df.columns if pd.api.types.is_numeric_dtype(df[c])]\n",
    "    rows = len(df)\n",
    "    records = []\n",
    "    for c in num_cols:\n",
    "        m_z = zscore_outliers_mask(df[c], z_thresh)\n",
    "        m_iqr = iqr_outliers_mask(df[c], iqr_k)\n",
    "        m_any = m_z | m_iqr\n",
    "        records.append({\n",
    "            \"column\": c,\n",
    "            \"z_thresh\": z_thresh,\n",
    "            \"iqr_k\": iqr_k,\n",
    "            \"outliers_any\": int(m_any.sum()),\n",
    "            \"rows\": rows,\n",
    "            \"pct_outliers_any\": round(100 * m_any.mean(), 3),\n",
    "        })\n",
    "    return pd.DataFrame(records).sort_values(\"pct_outliers_any\", ascending=False).reset_index(drop=True)\n"
   ]
  },
  {
   "cell_type": "code",
   "execution_count": 17,
   "id": "040af205",
   "metadata": {},
   "outputs": [],
   "source": [
    "def recommend_treatments(\n",
    "    df: pd.DataFrame,\n",
    "    union_tbl: pd.DataFrame,\n",
    "    skew_abs_threshold: float = 0.75\n",
    "):\n",
    "    \"\"\"\n",
    "    Returns a table with: column, pct_outliers_any, skew, unique_ratio, recommendation, rationale\n",
    "    \"\"\"\n",
    "    rows = len(df)\n",
    "    recs = []\n",
    "    for _, r in union_tbl.iterrows():\n",
    "        c = r[\"column\"]\n",
    "        pct = r[\"pct_outliers_any\"]\n",
    "        s = df[c].astype(float)\n",
    "        skew = float(s.skew(skipna=True)) if pd.api.types.is_numeric_dtype(s) else np.nan\n",
    "        unique_ratio = df[c].nunique(dropna=True) / rows if rows else 0.0\n",
    "\n",
    "        # Default\n",
    "        recommendation = \"none\"\n",
    "        rationale = \"No action.\"\n",
    "\n",
    "        if pct < 1.0:\n",
    "            recommendation = \"drop_rows\"\n",
    "            rationale = \"<1% outliers — removing affected rows is low risk.\"\n",
    "        elif pct < 10.0:\n",
    "            recommendation = \"clip\"\n",
    "            rationale = \"1–10% outliers — capping to IQR bounds preserves most data.\"\n",
    "        elif pct < 30.0:\n",
    "            if skew > skew_abs_threshold:\n",
    "                recommendation = \"log\"\n",
    "                rationale = f\"{pct:.1f}% outliers with right-skew (skew={skew:.2f}) — log transform often helps.\"\n",
    "            elif skew < -skew_abs_threshold:\n",
    "                recommendation = \"standardize\"\n",
    "                rationale = f\"{pct:.1f}% outliers with left-skew (skew={skew:.2f}) — scaling recommended.\"\n",
    "            else:\n",
    "                recommendation = \"standardize\"\n",
    "                rationale = f\"{pct:.1f}% outliers, moderate skew (skew={skew:.2f}) — standardize.\"\n",
    "        else:\n",
    "            recommendation = \"investigate\"\n",
    "            rationale = f\">{pct:.1f}% outliers — check data quality/units before treating.\"\n",
    "\n",
    "        # If the column looks categorical-like (very few unique values), warn:\n",
    "        if unique_ratio < 0.05 and pd.api.types.is_numeric_dtype(df[c]):\n",
    "            rationale += \" Column has low unique ratio; may be categorical encoded.\"\n",
    "\n",
    "        recs.append({\n",
    "            \"column\": c,\n",
    "            \"pct_outliers_any\": pct,\n",
    "            \"skew\": round(skew, 3) if np.isfinite(skew) else np.nan,\n",
    "            \"unique_ratio\": round(float(unique_ratio), 4),\n",
    "            \"recommendation\": recommendation,\n",
    "            \"rationale\": rationale,\n",
    "        })\n",
    "\n",
    "    return pd.DataFrame(recs).sort_values(\"pct_outliers_any\", ascending=False).reset_index(drop=True)\n"
   ]
  },
  {
   "cell_type": "code",
   "execution_count": 22,
   "id": "edb1cb6e",
   "metadata": {},
   "outputs": [
    {
     "name": "stdout",
     "output_type": "stream",
     "text": [
      "=== Z-score table ===\n"
     ]
    },
    {
     "data": {
      "application/vnd.microsoft.datawrangler.viewer.v0+json": {
       "columns": [
        {
         "name": "index",
         "rawType": "int64",
         "type": "integer"
        },
        {
         "name": "column",
         "rawType": "object",
         "type": "string"
        },
        {
         "name": "z_thresh",
         "rawType": "float64",
         "type": "float"
        },
        {
         "name": "outliers",
         "rawType": "int64",
         "type": "integer"
        },
        {
         "name": "rows",
         "rawType": "int64",
         "type": "integer"
        },
        {
         "name": "pct_outliers",
         "rawType": "float64",
         "type": "float"
        }
       ],
       "ref": "b548298e-3f6d-4723-86ec-bba41fe7c6f0",
       "rows": [
        [
         "0",
         "Never smoked",
         "3.0",
         "21",
         "876",
         "2.397"
        ],
        [
         "1",
         "Former smoker",
         "3.0",
         "5",
         "876",
         "0.571"
        ],
        [
         "2",
         "Smoke some days",
         "3.0",
         "5",
         "876",
         "0.571"
        ],
        [
         "3",
         "Smoke everyday",
         "3.0",
         "4",
         "876",
         "0.457"
        ],
        [
         "4",
         "Year",
         "3.0",
         "1",
         "876",
         "0.114"
        ]
       ],
       "shape": {
        "columns": 5,
        "rows": 5
       }
      },
      "text/html": [
       "<div>\n",
       "<style scoped>\n",
       "    .dataframe tbody tr th:only-of-type {\n",
       "        vertical-align: middle;\n",
       "    }\n",
       "\n",
       "    .dataframe tbody tr th {\n",
       "        vertical-align: top;\n",
       "    }\n",
       "\n",
       "    .dataframe thead th {\n",
       "        text-align: right;\n",
       "    }\n",
       "</style>\n",
       "<table border=\"1\" class=\"dataframe\">\n",
       "  <thead>\n",
       "    <tr style=\"text-align: right;\">\n",
       "      <th></th>\n",
       "      <th>column</th>\n",
       "      <th>z_thresh</th>\n",
       "      <th>outliers</th>\n",
       "      <th>rows</th>\n",
       "      <th>pct_outliers</th>\n",
       "    </tr>\n",
       "  </thead>\n",
       "  <tbody>\n",
       "    <tr>\n",
       "      <th>0</th>\n",
       "      <td>Never smoked</td>\n",
       "      <td>3.0</td>\n",
       "      <td>21</td>\n",
       "      <td>876</td>\n",
       "      <td>2.397</td>\n",
       "    </tr>\n",
       "    <tr>\n",
       "      <th>1</th>\n",
       "      <td>Former smoker</td>\n",
       "      <td>3.0</td>\n",
       "      <td>5</td>\n",
       "      <td>876</td>\n",
       "      <td>0.571</td>\n",
       "    </tr>\n",
       "    <tr>\n",
       "      <th>2</th>\n",
       "      <td>Smoke some days</td>\n",
       "      <td>3.0</td>\n",
       "      <td>5</td>\n",
       "      <td>876</td>\n",
       "      <td>0.571</td>\n",
       "    </tr>\n",
       "    <tr>\n",
       "      <th>3</th>\n",
       "      <td>Smoke everyday</td>\n",
       "      <td>3.0</td>\n",
       "      <td>4</td>\n",
       "      <td>876</td>\n",
       "      <td>0.457</td>\n",
       "    </tr>\n",
       "    <tr>\n",
       "      <th>4</th>\n",
       "      <td>Year</td>\n",
       "      <td>3.0</td>\n",
       "      <td>1</td>\n",
       "      <td>876</td>\n",
       "      <td>0.114</td>\n",
       "    </tr>\n",
       "  </tbody>\n",
       "</table>\n",
       "</div>"
      ],
      "text/plain": [
       "            column  z_thresh  outliers  rows  pct_outliers\n",
       "0     Never smoked       3.0        21   876         2.397\n",
       "1    Former smoker       3.0         5   876         0.571\n",
       "2  Smoke some days       3.0         5   876         0.571\n",
       "3   Smoke everyday       3.0         4   876         0.457\n",
       "4             Year       3.0         1   876         0.114"
      ]
     },
     "metadata": {},
     "output_type": "display_data"
    },
    {
     "name": "stdout",
     "output_type": "stream",
     "text": [
      "=== IQR table ===\n"
     ]
    },
    {
     "data": {
      "application/vnd.microsoft.datawrangler.viewer.v0+json": {
       "columns": [
        {
         "name": "index",
         "rawType": "int64",
         "type": "integer"
        },
        {
         "name": "column",
         "rawType": "object",
         "type": "string"
        },
        {
         "name": "iqr_k",
         "rawType": "float64",
         "type": "float"
        },
        {
         "name": "lower_bound",
         "rawType": "float64",
         "type": "float"
        },
        {
         "name": "upper_bound",
         "rawType": "float64",
         "type": "float"
        },
        {
         "name": "outliers",
         "rawType": "int64",
         "type": "integer"
        },
        {
         "name": "rows",
         "rawType": "int64",
         "type": "integer"
        },
        {
         "name": "pct_outliers",
         "rawType": "float64",
         "type": "float"
        }
       ],
       "ref": "ee2a2dda-c4d9-4f30-b03d-94f07d0d896d",
       "rows": [
        [
         "0",
         "Former smoker",
         "1.5",
         "0.17949999999999972",
         "0.31150000000000017",
         "63",
         "876",
         "7.192"
        ],
        [
         "1",
         "Never smoked",
         "1.5",
         "0.433875",
         "0.6388750000000001",
         "47",
         "876",
         "5.365"
        ],
        [
         "2",
         "Smoke some days",
         "1.5",
         "0.022125000000000047",
         "0.07512499999999993",
         "28",
         "876",
         "3.196"
        ],
        [
         "3",
         "Smoke everyday",
         "1.5",
         "0.061000000000000026",
         "0.269",
         "11",
         "876",
         "1.256"
        ],
        [
         "4",
         "Year",
         "1.5",
         "1987.0",
         "2019.0",
         "1",
         "876",
         "0.114"
        ]
       ],
       "shape": {
        "columns": 7,
        "rows": 5
       }
      },
      "text/html": [
       "<div>\n",
       "<style scoped>\n",
       "    .dataframe tbody tr th:only-of-type {\n",
       "        vertical-align: middle;\n",
       "    }\n",
       "\n",
       "    .dataframe tbody tr th {\n",
       "        vertical-align: top;\n",
       "    }\n",
       "\n",
       "    .dataframe thead th {\n",
       "        text-align: right;\n",
       "    }\n",
       "</style>\n",
       "<table border=\"1\" class=\"dataframe\">\n",
       "  <thead>\n",
       "    <tr style=\"text-align: right;\">\n",
       "      <th></th>\n",
       "      <th>column</th>\n",
       "      <th>iqr_k</th>\n",
       "      <th>lower_bound</th>\n",
       "      <th>upper_bound</th>\n",
       "      <th>outliers</th>\n",
       "      <th>rows</th>\n",
       "      <th>pct_outliers</th>\n",
       "    </tr>\n",
       "  </thead>\n",
       "  <tbody>\n",
       "    <tr>\n",
       "      <th>0</th>\n",
       "      <td>Former smoker</td>\n",
       "      <td>1.5</td>\n",
       "      <td>0.179500</td>\n",
       "      <td>0.311500</td>\n",
       "      <td>63</td>\n",
       "      <td>876</td>\n",
       "      <td>7.192</td>\n",
       "    </tr>\n",
       "    <tr>\n",
       "      <th>1</th>\n",
       "      <td>Never smoked</td>\n",
       "      <td>1.5</td>\n",
       "      <td>0.433875</td>\n",
       "      <td>0.638875</td>\n",
       "      <td>47</td>\n",
       "      <td>876</td>\n",
       "      <td>5.365</td>\n",
       "    </tr>\n",
       "    <tr>\n",
       "      <th>2</th>\n",
       "      <td>Smoke some days</td>\n",
       "      <td>1.5</td>\n",
       "      <td>0.022125</td>\n",
       "      <td>0.075125</td>\n",
       "      <td>28</td>\n",
       "      <td>876</td>\n",
       "      <td>3.196</td>\n",
       "    </tr>\n",
       "    <tr>\n",
       "      <th>3</th>\n",
       "      <td>Smoke everyday</td>\n",
       "      <td>1.5</td>\n",
       "      <td>0.061000</td>\n",
       "      <td>0.269000</td>\n",
       "      <td>11</td>\n",
       "      <td>876</td>\n",
       "      <td>1.256</td>\n",
       "    </tr>\n",
       "    <tr>\n",
       "      <th>4</th>\n",
       "      <td>Year</td>\n",
       "      <td>1.5</td>\n",
       "      <td>1987.000000</td>\n",
       "      <td>2019.000000</td>\n",
       "      <td>1</td>\n",
       "      <td>876</td>\n",
       "      <td>0.114</td>\n",
       "    </tr>\n",
       "  </tbody>\n",
       "</table>\n",
       "</div>"
      ],
      "text/plain": [
       "            column  iqr_k  lower_bound  upper_bound  outliers  rows  \\\n",
       "0    Former smoker    1.5     0.179500     0.311500        63   876   \n",
       "1     Never smoked    1.5     0.433875     0.638875        47   876   \n",
       "2  Smoke some days    1.5     0.022125     0.075125        28   876   \n",
       "3   Smoke everyday    1.5     0.061000     0.269000        11   876   \n",
       "4             Year    1.5  1987.000000  2019.000000         1   876   \n",
       "\n",
       "   pct_outliers  \n",
       "0         7.192  \n",
       "1         5.365  \n",
       "2         3.196  \n",
       "3         1.256  \n",
       "4         0.114  "
      ]
     },
     "metadata": {},
     "output_type": "display_data"
    },
    {
     "name": "stdout",
     "output_type": "stream",
     "text": [
      "=== Union (Z or IQR) ===\n"
     ]
    },
    {
     "data": {
      "application/vnd.microsoft.datawrangler.viewer.v0+json": {
       "columns": [
        {
         "name": "index",
         "rawType": "int64",
         "type": "integer"
        },
        {
         "name": "column",
         "rawType": "object",
         "type": "string"
        },
        {
         "name": "z_thresh",
         "rawType": "float64",
         "type": "float"
        },
        {
         "name": "iqr_k",
         "rawType": "float64",
         "type": "float"
        },
        {
         "name": "outliers_any",
         "rawType": "int64",
         "type": "integer"
        },
        {
         "name": "rows",
         "rawType": "int64",
         "type": "integer"
        },
        {
         "name": "pct_outliers_any",
         "rawType": "float64",
         "type": "float"
        }
       ],
       "ref": "c2d88fb4-0145-4c70-8c0f-83cf837fa245",
       "rows": [
        [
         "0",
         "Former smoker",
         "3.0",
         "1.5",
         "63",
         "876",
         "7.192"
        ],
        [
         "1",
         "Never smoked",
         "3.0",
         "1.5",
         "47",
         "876",
         "5.365"
        ],
        [
         "2",
         "Smoke some days",
         "3.0",
         "1.5",
         "28",
         "876",
         "3.196"
        ],
        [
         "3",
         "Smoke everyday",
         "3.0",
         "1.5",
         "11",
         "876",
         "1.256"
        ],
        [
         "4",
         "Year",
         "3.0",
         "1.5",
         "1",
         "876",
         "0.114"
        ]
       ],
       "shape": {
        "columns": 6,
        "rows": 5
       }
      },
      "text/html": [
       "<div>\n",
       "<style scoped>\n",
       "    .dataframe tbody tr th:only-of-type {\n",
       "        vertical-align: middle;\n",
       "    }\n",
       "\n",
       "    .dataframe tbody tr th {\n",
       "        vertical-align: top;\n",
       "    }\n",
       "\n",
       "    .dataframe thead th {\n",
       "        text-align: right;\n",
       "    }\n",
       "</style>\n",
       "<table border=\"1\" class=\"dataframe\">\n",
       "  <thead>\n",
       "    <tr style=\"text-align: right;\">\n",
       "      <th></th>\n",
       "      <th>column</th>\n",
       "      <th>z_thresh</th>\n",
       "      <th>iqr_k</th>\n",
       "      <th>outliers_any</th>\n",
       "      <th>rows</th>\n",
       "      <th>pct_outliers_any</th>\n",
       "    </tr>\n",
       "  </thead>\n",
       "  <tbody>\n",
       "    <tr>\n",
       "      <th>0</th>\n",
       "      <td>Former smoker</td>\n",
       "      <td>3.0</td>\n",
       "      <td>1.5</td>\n",
       "      <td>63</td>\n",
       "      <td>876</td>\n",
       "      <td>7.192</td>\n",
       "    </tr>\n",
       "    <tr>\n",
       "      <th>1</th>\n",
       "      <td>Never smoked</td>\n",
       "      <td>3.0</td>\n",
       "      <td>1.5</td>\n",
       "      <td>47</td>\n",
       "      <td>876</td>\n",
       "      <td>5.365</td>\n",
       "    </tr>\n",
       "    <tr>\n",
       "      <th>2</th>\n",
       "      <td>Smoke some days</td>\n",
       "      <td>3.0</td>\n",
       "      <td>1.5</td>\n",
       "      <td>28</td>\n",
       "      <td>876</td>\n",
       "      <td>3.196</td>\n",
       "    </tr>\n",
       "    <tr>\n",
       "      <th>3</th>\n",
       "      <td>Smoke everyday</td>\n",
       "      <td>3.0</td>\n",
       "      <td>1.5</td>\n",
       "      <td>11</td>\n",
       "      <td>876</td>\n",
       "      <td>1.256</td>\n",
       "    </tr>\n",
       "    <tr>\n",
       "      <th>4</th>\n",
       "      <td>Year</td>\n",
       "      <td>3.0</td>\n",
       "      <td>1.5</td>\n",
       "      <td>1</td>\n",
       "      <td>876</td>\n",
       "      <td>0.114</td>\n",
       "    </tr>\n",
       "  </tbody>\n",
       "</table>\n",
       "</div>"
      ],
      "text/plain": [
       "            column  z_thresh  iqr_k  outliers_any  rows  pct_outliers_any\n",
       "0    Former smoker       3.0    1.5            63   876             7.192\n",
       "1     Never smoked       3.0    1.5            47   876             5.365\n",
       "2  Smoke some days       3.0    1.5            28   876             3.196\n",
       "3   Smoke everyday       3.0    1.5            11   876             1.256\n",
       "4             Year       3.0    1.5             1   876             0.114"
      ]
     },
     "metadata": {},
     "output_type": "display_data"
    },
    {
     "name": "stdout",
     "output_type": "stream",
     "text": [
      "=== Suggested treatments ===\n"
     ]
    },
    {
     "data": {
      "application/vnd.microsoft.datawrangler.viewer.v0+json": {
       "columns": [
        {
         "name": "index",
         "rawType": "int64",
         "type": "integer"
        },
        {
         "name": "column",
         "rawType": "object",
         "type": "string"
        },
        {
         "name": "pct_outliers_any",
         "rawType": "float64",
         "type": "float"
        },
        {
         "name": "skew",
         "rawType": "float64",
         "type": "float"
        },
        {
         "name": "unique_ratio",
         "rawType": "float64",
         "type": "float"
        },
        {
         "name": "recommendation",
         "rawType": "object",
         "type": "string"
        },
        {
         "name": "rationale",
         "rawType": "object",
         "type": "string"
        }
       ],
       "ref": "9fa8ee91-df2f-48f3-b684-23c748a85816",
       "rows": [
        [
         "0",
         "Former smoker",
         "7.192",
         "6.426",
         "0.1941",
         "clip",
         "1–10% outliers — capping to IQR bounds preserves most data."
        ],
        [
         "1",
         "Never smoked",
         "5.365",
         "1.875",
         "0.2374",
         "clip",
         "1–10% outliers — capping to IQR bounds preserves most data."
        ],
        [
         "2",
         "Smoke some days",
         "3.196",
         "-0.173",
         "0.0742",
         "clip",
         "1–10% outliers — capping to IQR bounds preserves most data."
        ],
        [
         "3",
         "Smoke everyday",
         "1.256",
         "-0.137",
         "0.2135",
         "clip",
         "1–10% outliers — capping to IQR bounds preserves most data."
        ],
        [
         "4",
         "Year",
         "0.114",
         "5.835",
         "0.0194",
         "drop_rows",
         "<1% outliers — removing affected rows is low risk. Column has low unique ratio; may be categorical encoded."
        ]
       ],
       "shape": {
        "columns": 6,
        "rows": 5
       }
      },
      "text/html": [
       "<div>\n",
       "<style scoped>\n",
       "    .dataframe tbody tr th:only-of-type {\n",
       "        vertical-align: middle;\n",
       "    }\n",
       "\n",
       "    .dataframe tbody tr th {\n",
       "        vertical-align: top;\n",
       "    }\n",
       "\n",
       "    .dataframe thead th {\n",
       "        text-align: right;\n",
       "    }\n",
       "</style>\n",
       "<table border=\"1\" class=\"dataframe\">\n",
       "  <thead>\n",
       "    <tr style=\"text-align: right;\">\n",
       "      <th></th>\n",
       "      <th>column</th>\n",
       "      <th>pct_outliers_any</th>\n",
       "      <th>skew</th>\n",
       "      <th>unique_ratio</th>\n",
       "      <th>recommendation</th>\n",
       "      <th>rationale</th>\n",
       "    </tr>\n",
       "  </thead>\n",
       "  <tbody>\n",
       "    <tr>\n",
       "      <th>0</th>\n",
       "      <td>Former smoker</td>\n",
       "      <td>7.192</td>\n",
       "      <td>6.426</td>\n",
       "      <td>0.1941</td>\n",
       "      <td>clip</td>\n",
       "      <td>1–10% outliers — capping to IQR bounds preserv...</td>\n",
       "    </tr>\n",
       "    <tr>\n",
       "      <th>1</th>\n",
       "      <td>Never smoked</td>\n",
       "      <td>5.365</td>\n",
       "      <td>1.875</td>\n",
       "      <td>0.2374</td>\n",
       "      <td>clip</td>\n",
       "      <td>1–10% outliers — capping to IQR bounds preserv...</td>\n",
       "    </tr>\n",
       "    <tr>\n",
       "      <th>2</th>\n",
       "      <td>Smoke some days</td>\n",
       "      <td>3.196</td>\n",
       "      <td>-0.173</td>\n",
       "      <td>0.0742</td>\n",
       "      <td>clip</td>\n",
       "      <td>1–10% outliers — capping to IQR bounds preserv...</td>\n",
       "    </tr>\n",
       "    <tr>\n",
       "      <th>3</th>\n",
       "      <td>Smoke everyday</td>\n",
       "      <td>1.256</td>\n",
       "      <td>-0.137</td>\n",
       "      <td>0.2135</td>\n",
       "      <td>clip</td>\n",
       "      <td>1–10% outliers — capping to IQR bounds preserv...</td>\n",
       "    </tr>\n",
       "    <tr>\n",
       "      <th>4</th>\n",
       "      <td>Year</td>\n",
       "      <td>0.114</td>\n",
       "      <td>5.835</td>\n",
       "      <td>0.0194</td>\n",
       "      <td>drop_rows</td>\n",
       "      <td>&lt;1% outliers — removing affected rows is low r...</td>\n",
       "    </tr>\n",
       "  </tbody>\n",
       "</table>\n",
       "</div>"
      ],
      "text/plain": [
       "            column  pct_outliers_any   skew  unique_ratio recommendation  \\\n",
       "0    Former smoker             7.192  6.426        0.1941           clip   \n",
       "1     Never smoked             5.365  1.875        0.2374           clip   \n",
       "2  Smoke some days             3.196 -0.173        0.0742           clip   \n",
       "3   Smoke everyday             1.256 -0.137        0.2135           clip   \n",
       "4             Year             0.114  5.835        0.0194      drop_rows   \n",
       "\n",
       "                                           rationale  \n",
       "0  1–10% outliers — capping to IQR bounds preserv...  \n",
       "1  1–10% outliers — capping to IQR bounds preserv...  \n",
       "2  1–10% outliers — capping to IQR bounds preserv...  \n",
       "3  1–10% outliers — capping to IQR bounds preserv...  \n",
       "4  <1% outliers — removing affected rows is low r...  "
      ]
     },
     "metadata": {},
     "output_type": "display_data"
    }
   ],
   "source": [
    "df = pd.read_csv(\"cleaned_smoke.csv\")  # <-- your cleaned CSV\n",
    "\n",
    "# 1) Separate method tables\n",
    "z_tbl, iqr_tbl = outlier_percent_tables(df, z_thresh=3.0, iqr_k=1.5)\n",
    "print(\"=== Z-score table ===\")\n",
    "display(z_tbl)\n",
    "print(\"=== IQR table ===\")\n",
    "display(iqr_tbl)\n",
    "\n",
    "# 2) Union view across methods\n",
    "union_tbl = outlier_union_table(df, z_thresh=3.0, iqr_k=1.5)\n",
    "print(\"=== Union (Z or IQR) ===\")\n",
    "display(union_tbl)\n",
    "\n",
    "# 3) Recommendations based on % outliers + skewness\n",
    "recs_tbl = recommend_treatments(df, union_tbl)\n",
    "print(\"=== Suggested treatments ===\")\n",
    "display(recs_tbl)\n"
   ]
  },
  {
   "cell_type": "code",
   "execution_count": 23,
   "id": "9508851e",
   "metadata": {},
   "outputs": [],
   "source": [
    "def treat_outliers(\n",
    "    df: pd.DataFrame,\n",
    "    cols=None,\n",
    "    policy: str = \"none\",     # \"drop_rows\" | \"clip\" | \"log\" | \"standardize\" | \"none\"\n",
    "    z_thresh: float = 3.0,\n",
    "    iqr_k: float = 1.5\n",
    "):\n",
    "    \"\"\"\n",
    "    Returns a NEW DataFrame with chosen outlier treatment applied.\n",
    "    \"\"\"\n",
    "    if cols is None:\n",
    "        cols = [c for c in df.columns if pd.api.types.is_numeric_dtype(df[c])]\n",
    "    out = df.copy()\n",
    "\n",
    "    # --- Build union mask across methods ---\n",
    "    union_mask = pd.Series(False, index=df.index)\n",
    "    for c in cols:\n",
    "        if not pd.api.types.is_numeric_dtype(df[c]):\n",
    "            continue\n",
    "        m_z = zscore_outliers_mask(df[c], z_thresh)\n",
    "        m_iqr = iqr_outliers_mask(df[c], iqr_k)\n",
    "        union_mask |= (m_z | m_iqr)\n",
    "\n",
    "    if policy == \"drop_rows\":\n",
    "        return out.loc[~union_mask].copy()\n",
    "\n",
    "    if policy == \"clip\":\n",
    "        for c in cols:\n",
    "            if not pd.api.types.is_numeric_dtype(out[c]): \n",
    "                continue\n",
    "            low, high = iqr_bounds(out[c], iqr_k)\n",
    "            out[c] = out[c].clip(lower=low, upper=high)\n",
    "        return out\n",
    "\n",
    "    if policy == \"log\":\n",
    "        for c in cols:\n",
    "            if not pd.api.types.is_numeric_dtype(out[c]): \n",
    "                continue\n",
    "            s = out[c].astype(float)\n",
    "            minv = s.min(skipna=True)\n",
    "            shift = -(minv) + 1e-6 if minv < 0 else 0.0\n",
    "            out[c] = np.log1p(s + shift)\n",
    "        return out\n",
    "\n",
    "    if policy == \"standardize\":\n",
    "        for c in cols:\n",
    "            if not pd.api.types.is_numeric_dtype(out[c]): \n",
    "                continue\n",
    "            s = out[c].astype(float)\n",
    "            mu, sd = s.mean(skipna=True), s.std(skipna=True)\n",
    "            out[c] = (s - mu) / sd if sd and np.isfinite(sd) else s*0.0\n",
    "        return out\n",
    "\n",
    "    return out\n"
   ]
  },
  {
   "cell_type": "code",
   "execution_count": 24,
   "id": "72259245",
   "metadata": {},
   "outputs": [],
   "source": [
    "import matplotlib.pyplot as plt\n",
    "\n",
    "def plot_box(df: pd.DataFrame, cols=None):\n",
    "    \"\"\"\n",
    "    Draw a boxplot for each numeric column in cols.\n",
    "    \"\"\"\n",
    "    if cols is None:\n",
    "        cols = [c for c in df.columns if pd.api.types.is_numeric_dtype(df[c])]\n",
    "    for c in cols:\n",
    "        if not pd.api.types.is_numeric_dtype(df[c]): \n",
    "            continue\n",
    "        plt.figure()\n",
    "        plt.boxplot(df[c].dropna().values, vert=True)\n",
    "        plt.title(f\"Boxplot — {c}\")\n",
    "        plt.xlabel(c)\n",
    "        plt.ylabel(\"value\")\n",
    "        plt.show()\n"
   ]
  },
  {
   "cell_type": "code",
   "execution_count": 26,
   "id": "36253572",
   "metadata": {},
   "outputs": [
    {
     "name": "stdout",
     "output_type": "stream",
     "text": [
      "Original shape: (876, 6) -> after drop: (779, 6)\n"
     ]
    },
    {
     "data": {
      "image/png": "[encoded data removed]",
      "text/plain": [
       "<Figure size 640x480 with 1 Axes>"
      ]
     },
     "metadata": {},
     "output_type": "display_data"
    },
    {
     "data": {
      "image/png": "[encoded data removed]",
      "text/plain": [
       "<Figure size 640x480 with 1 Axes>"
      ]
     },
     "metadata": {},
     "output_type": "display_data"
    },
    {
     "data": {
      "image/png": "[encoded data removed]",
      "text/plain": [
       "<Figure size 640x480 with 1 Axes>"
      ]
     },
     "metadata": {},
     "output_type": "display_data"
    },
    {
     "data": {
      "image/png": "[encoded data removed]",
      "text/plain": [
       "<Figure size 640x480 with 1 Axes>"
      ]
     },
     "metadata": {},
     "output_type": "display_data"
    },
    {
     "data": {
      "image/png": "[encoded data removed]",
      "text/plain": [
       "<Figure size 640x480 with 1 Axes>"
      ]
     },
     "metadata": {},
     "output_type": "display_data"
    }
   ],
   "source": [
    "df = pd.read_csv(\"cleaned_smoke.csv\")  # your cleaned data\n",
    "\n",
    "# Example: drop rows with outliers\n",
    "df_drop = treat_outliers(df, policy=\"drop_rows\")\n",
    "print(\"Original shape:\", df.shape, \"-> after drop:\", df_drop.shape)\n",
    "\n",
    "# Example: clip values\n",
    "df_clip = treat_outliers(df, policy=\"clip\")\n",
    "\n",
    "# Example: log transform\n",
    "df_log = treat_outliers(df, policy=\"log\")\n",
    "\n",
    "# Example: standardize\n",
    "df_std = treat_outliers(df, policy=\"standardize\")\n",
    "\n",
    "# Example: plot\n",
    "plot_box(df)\n",
    "\n",
    "\n"
   ]
  }
 ],
 "metadata": {
  "kernelspec": {
   "display_name": "data-cleaning-agent",
   "language": "python",
   "name": "python3"
  },
  "language_info": {
   "codemirror_mode": {
    "name": "ipython",
    "version": 3
   },
   "file_extension": ".py",
   "mimetype": "text/x-python",
   "name": "python",
   "nbconvert_exporter": "python",
   "pygments_lexer": "ipython3",
   "version": "3.11.13"
  }
 },
 "nbformat": 4,
 "nbformat_minor": 5
}
